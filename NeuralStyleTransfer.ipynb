{
  "nbformat": 4,
  "nbformat_minor": 0,
  "metadata": {
    "colab": {
      "name": "NeuralStyleTransfer.ipynb",
      "provenance": [],
      "collapsed_sections": []
    },
    "kernelspec": {
      "name": "python3",
      "display_name": "Python 3"
    },
    "accelerator": "GPU"
  },
  "cells": [
    {
      "cell_type": "code",
      "metadata": {
        "id": "88XMYhENy4oE",
        "colab_type": "code",
        "colab": {}
      },
      "source": [
        "pip install tensorflow==2.0.2"
      ],
      "execution_count": null,
      "outputs": []
    },
    {
      "cell_type": "code",
      "metadata": {
        "id": "N4b4oTnZxQ72",
        "colab_type": "code",
        "colab": {}
      },
      "source": [
        "pip install tensorflow-gpu==2.0.2"
      ],
      "execution_count": null,
      "outputs": []
    },
    {
      "cell_type": "code",
      "metadata": {
        "id": "yhc0NngzwVab",
        "colab_type": "code",
        "colab": {}
      },
      "source": [
        "from tensorflow.python.client import device_lib\n",
        "device_lib.list_local_devices()"
      ],
      "execution_count": null,
      "outputs": []
    },
    {
      "cell_type": "code",
      "metadata": {
        "id": "bTWhJVKpFbol",
        "colab_type": "code",
        "colab": {}
      },
      "source": [
        "from google.colab import drive\n",
        "drive.mount('/content/drive')"
      ],
      "execution_count": null,
      "outputs": []
    },
    {
      "cell_type": "code",
      "metadata": {
        "id": "w48vKhPNxviX",
        "colab_type": "code",
        "colab": {}
      },
      "source": [
        "import tensorflow as tf\n",
        "import IPython.display as display\n",
        "import matplotlib.pyplot as plt\n",
        "import matplotlib as mpl\n",
        "mpl.rcParams['figure.figsize'] = (12, 12)\n",
        "mpl.rcParams['axes.grid'] = False\n",
        "import numpy as np\n",
        "import PIL.Image\n",
        "import time\n",
        "import functools"
      ],
      "execution_count": 3,
      "outputs": []
    },
    {
      "cell_type": "code",
      "metadata": {
        "id": "Jm_88NqJx0U5",
        "colab_type": "code",
        "colab": {}
      },
      "source": [
        "def tensor_to_image(tensor):\n",
        "    tensor = tensor*255\n",
        "    tensor = np.array(tensor, dtype=np.uint8)\n",
        "    if np.ndim(tensor) > 3:\n",
        "        assert tensor.shape[0] == 1\n",
        "        tensor = tensor[0]\n",
        "    return PIL.Image.fromarray(tensor)"
      ],
      "execution_count": 4,
      "outputs": []
    },
    {
      "cell_type": "code",
      "metadata": {
        "id": "KRDFxdKZx3IJ",
        "colab_type": "code",
        "colab": {}
      },
      "source": [
        "# 画像を読み込み、最大寸法を512ピクセルに制限する関数\n",
        "def load_img(path_to_img):\n",
        "    max_dim = 512\n",
        "\n",
        "    # ファイルの読み込み \n",
        "    img = tf.io.read_file(path_to_img)\n",
        "    # フォーマットに従いデコード\n",
        "    img = tf.image.decode_image(img, channels=3)\n",
        "    img = tf.image.convert_image_dtype(img, tf.float32)\n",
        "\n",
        "    shape = tf.cast(tf.shape(img)[:-1], tf.float32)\n",
        "    long_dim = max(shape)\n",
        "    scale = max_dim / long_dim\n",
        "\n",
        "    new_shape = tf.cast(shape * scale, tf.int32)\n",
        "\n",
        "    img = tf.image.resize(img, new_shape)\n",
        "    img = img[tf.newaxis, :]\n",
        "    return img"
      ],
      "execution_count": 32,
      "outputs": []
    },
    {
      "cell_type": "code",
      "metadata": {
        "id": "WuZvSA_5x509",
        "colab_type": "code",
        "colab": {}
      },
      "source": [
        "def imshow(image, title=None):\n",
        "    if len(image.shape) > 3:\n",
        "        image = tf.squeeze(image, axis=0)\n",
        "    \n",
        "    plt.imshow(image)\n",
        "    if title:\n",
        "        plt.title(title)"
      ],
      "execution_count": 6,
      "outputs": []
    },
    {
      "cell_type": "code",
      "metadata": {
        "id": "EuPumuL_x-QA",
        "colab_type": "code",
        "colab": {}
      },
      "source": [
        "def vgg_layers(layer_names):\n",
        "    \"\"\"隠れ層の値のリストを返すVGGモデルを作る\"\"\"\n",
        "    # imagenetデータで学習されたVGGモデルをロード\n",
        "    vgg = tf.keras.applications.VGG19(include_top=False, weights='imagenet')\n",
        "    vgg.trainable = False\n",
        "\n",
        "    outputs = [vgg.get_layer(name).output for name in layer_names]\n",
        "\n",
        "    model = tf.keras.Model([vgg.input], outputs)\n",
        "    return model"
      ],
      "execution_count": 7,
      "outputs": []
    },
    {
      "cell_type": "code",
      "metadata": {
        "id": "CcS-ds36yADM",
        "colab_type": "code",
        "colab": {}
      },
      "source": [
        "# スタイルの計算\n",
        "def gram_matrix(input_tensor):\n",
        "    result = tf.linalg.einsum('bijc,bijd->bcd', input_tensor, input_tensor)\n",
        "    input_shape = tf.shape(input_tensor)\n",
        "    num_locations = tf.cast(input_shape[1]*input_shape[2], tf.float32)\n",
        "    return result/(num_locations)"
      ],
      "execution_count": 8,
      "outputs": []
    },
    {
      "cell_type": "code",
      "metadata": {
        "id": "9cL3uh2FyB2Q",
        "colab_type": "code",
        "colab": {}
      },
      "source": [
        "# ピクセル値を0から1の間に保つ\n",
        "def clip_0_1(image):\n",
        "    return tf.clip_by_value(image, clip_value_min=0.0, clip_value_max=1.0)"
      ],
      "execution_count": 9,
      "outputs": []
    },
    {
      "cell_type": "code",
      "metadata": {
        "id": "XjR3zB0JyEC8",
        "colab_type": "code",
        "colab": {}
      },
      "source": [
        "# 損失の計算\n",
        "def style_content_loss(outputs):\n",
        "    style_outputs = outputs['style']\n",
        "    content_outputs = outputs['content']\n",
        "\n",
        "    # スタイルの損失\n",
        "    # コンテンツ画像とスタイル画像のスタイルの部分でMSEを行う\n",
        "    style_loss = tf.add_n([tf.reduce_mean((style_outputs[name]-style_targets[name])**2) for name in style_outputs.keys()])\n",
        "    style_loss *= style_weight / num_style_layers\n",
        "    \n",
        "    # コンテンツの損失\n",
        "    content_loss = tf.add_n([tf.reduce_mean((content_outputs[name]-content_targets[name])**2) for name in content_outputs.keys()])\n",
        "    content_loss *= content_weight / num_content_layers\n",
        "\n",
        "    loss = style_loss + content_loss\n",
        "    return loss"
      ],
      "execution_count": 10,
      "outputs": []
    },
    {
      "cell_type": "code",
      "metadata": {
        "id": "5wO62BKcyFtq",
        "colab_type": "code",
        "colab": {}
      },
      "source": [
        "@tf.function()\n",
        "def train_step(image):\n",
        "    with tf.GradientTape() as tape:\n",
        "        outputs = extractor.call(image)\n",
        "        loss = style_content_loss(outputs)\n",
        "        loss += total_variation_weight * tf.image.total_variation(image)\n",
        "    \n",
        "    grad = tape.gradient(loss, image)\n",
        "    optimizer.apply_gradients([(grad, image)])\n",
        "    image.assign(clip_0_1(image))\n",
        "\n"
      ],
      "execution_count": 39,
      "outputs": []
    },
    {
      "cell_type": "code",
      "metadata": {
        "id": "8egDMKdpyJrX",
        "colab_type": "code",
        "colab": {}
      },
      "source": [
        "# スタイルとコンテンツを抽出する\n",
        "class StyleContentModel(tf.keras.Model):\n",
        "    def __init__(self, style_layers, content_layers):\n",
        "        super().__init__()\n",
        "        self.vgg = vgg_layers(style_layers + content_layers)\n",
        "        self.style_layers = style_layers\n",
        "        self.content_layers = content_layers\n",
        "        self.num_style_layers = len(style_layers)\n",
        "        self.vgg.trainable = False\n",
        "\n",
        "    def call(self, inputs):\n",
        "        \"\"\"inputは[0, 1]のfloat入力\"\"\"\n",
        "        # [0, 1] => [0, 255]\n",
        "        inputs = inputs * 255.0\n",
        "        # 画像の前処理(画像の正規化やimagenetデータセットのRGB各チャンネルごとの平均値を引く等々)\n",
        "        preprocessed_input = tf.keras.applications.vgg19.preprocess_input(inputs)\n",
        "        # スタイルとコンテンツに指定した各層の出力を取り出す\n",
        "        outputs = self.vgg(preprocessed_input)\n",
        "        style_outputs, content_outputs = (outputs[:self.num_style_layers], outputs[self.num_style_layers:])\n",
        "\n",
        "        # style_outputsをグラムマトリックスにする\n",
        "        style_outputs = [gram_matrix(style_output) for style_output in style_outputs]\n",
        "\n",
        "        content_dict = {content_name : value for content_name, value in zip(self.content_layers, content_outputs)}\n",
        "        style_dict = {style_name : value for style_name, value in zip(self.style_layers, style_outputs)}\n",
        "\n",
        "        return {'content': content_dict, 'style' : style_dict}\n",
        "\n",
        "\n"
      ],
      "execution_count": 12,
      "outputs": []
    },
    {
      "cell_type": "code",
      "metadata": {
        "id": "N2jVL-6IyLgP",
        "colab_type": "code",
        "colab": {
          "base_uri": "https://localhost:8080/",
          "height": 242
        },
        "outputId": "fe183c21-5778-473b-cd36-b14eeddc876b"
      },
      "source": [
        "content_path = 'drive/My Drive/transfer_images/content/IMG_2981.JPG'\n",
        "\n",
        "# https://commons.wikimedia.org/wiki/File:Vassily_Kandinsky,_1913_-_Composition_7.jpg\n",
        "style_path = 'drive/My Drive/transfer_images/style/gogh_1.jpg'\n",
        "\n",
        "content_image = load_img(content_path)\n",
        "style_image = load_img(style_path)\n",
        "\n",
        "# 画像のスタイルとコンテンツを表すために、ネットワークから中間レイヤーを選択\n",
        "content_layers = ['block5_conv2']\n",
        "\n",
        "style_layers = ['block1_conv1',\n",
        "                'block2_conv1',\n",
        "                'block3_conv1',\n",
        "                'block4_conv1',\n",
        "                'block5_conv1']\n",
        "\n",
        "num_content_layers = len(content_layers)\n",
        "num_style_layers = len(style_layers)\n",
        "\n",
        "# モデルの作成\n",
        "extractor = StyleContentModel(style_layers, content_layers)\n",
        "\n",
        "results = extractor.call(tf.constant(content_image))\n",
        "\n",
        "\"\"\"\n",
        "print('Styles:')\n",
        "for name, output in sorted(results['style'].items()):\n",
        "    print(\"  \", name)\n",
        "    print(\"    shape: \", output.shape)\n",
        "    print(\"    min: \", output.numpy().min())\n",
        "    print(\"    max: \", output.numpy().max())\n",
        "    print(\"    mean: \", output.numpy().mean())\n",
        "    print()\n",
        "\n",
        "print(\"Contents:\")\n",
        "for name, output in sorted(results['content'].items()):\n",
        "    print(\"  \", name)\n",
        "    print(\"    shape: \", output.numpy().shape)\n",
        "    print(\"    min: \", output.numpy().min())\n",
        "    print(\"    max: \", output.numpy().max())\n",
        "    print(\"    mean: \", output.numpy().mean())\n",
        "\"\"\"\n",
        "\n",
        "# スタイル画像のスタイルとコンテンツ画像のコンテンツをターゲットとして設定\n",
        "style_targets = extractor.call(style_image)['style']\n",
        "content_targets = extractor.call(content_image)['content']\n",
        "\n",
        "# 最適化する画像を含むtf.Variableを定義。コンテンツ画像で初期化(tf.Variableはコンテンツ画像と同じ形状でなければならない)\n",
        "image = tf.Variable(content_image)\n",
        "\n",
        "# オプティマイザ\n",
        "optimizer = tf.optimizers.Adam(learning_rate=0.01)\n",
        "\n",
        "# スタイルとコンテンツの重み\n",
        "style_weight = 1e4\n",
        "content_weight = 1e2\n",
        "\n",
        "# 総変動損失の重み\n",
        "total_variation_weight=20\n",
        "\n",
        "for i in range(100000):\n",
        "    train_step(image)\n",
        "    print('\\rNo, %d' %(i+1), end='')\n",
        "    if i % 1000 == 0:\n",
        "        re_image = tensor_to_image(image)\n",
        "        fig = plt.figure()\n",
        "        plt.imshow(re_image)\n",
        "        fig.savefig('drive/My Drive/transfer_images/transfered/%d.jpg' %(i+1))\n",
        "        plt.show()\n",
        "\n",
        "plt.imshow(tensor_to_image(image))\n",
        "plt.show()\n"
      ],
      "execution_count": 1,
      "outputs": [
        {
          "output_type": "error",
          "ename": "NameError",
          "evalue": "ignored",
          "traceback": [
            "\u001b[0;31m---------------------------------------------------------------------------\u001b[0m",
            "\u001b[0;31mNameError\u001b[0m                                 Traceback (most recent call last)",
            "\u001b[0;32m<ipython-input-1-0fd34c32f4a7>\u001b[0m in \u001b[0;36m<module>\u001b[0;34m()\u001b[0m\n\u001b[1;32m      4\u001b[0m \u001b[0mstyle_path\u001b[0m \u001b[0;34m=\u001b[0m \u001b[0;34m'drive/My Drive/transfer_images/style/gogh_1.jpg'\u001b[0m\u001b[0;34m\u001b[0m\u001b[0;34m\u001b[0m\u001b[0m\n\u001b[1;32m      5\u001b[0m \u001b[0;34m\u001b[0m\u001b[0m\n\u001b[0;32m----> 6\u001b[0;31m \u001b[0mcontent_image\u001b[0m \u001b[0;34m=\u001b[0m \u001b[0mload_img\u001b[0m\u001b[0;34m(\u001b[0m\u001b[0mcontent_path\u001b[0m\u001b[0;34m)\u001b[0m\u001b[0;34m\u001b[0m\u001b[0;34m\u001b[0m\u001b[0m\n\u001b[0m\u001b[1;32m      7\u001b[0m \u001b[0mstyle_image\u001b[0m \u001b[0;34m=\u001b[0m \u001b[0mload_img\u001b[0m\u001b[0;34m(\u001b[0m\u001b[0mstyle_path\u001b[0m\u001b[0;34m)\u001b[0m\u001b[0;34m\u001b[0m\u001b[0;34m\u001b[0m\u001b[0m\n\u001b[1;32m      8\u001b[0m \u001b[0;34m\u001b[0m\u001b[0m\n",
            "\u001b[0;31mNameError\u001b[0m: name 'load_img' is not defined"
          ]
        }
      ]
    },
    {
      "cell_type": "code",
      "metadata": {
        "id": "tTO5C0HaxR6D",
        "colab_type": "code",
        "colab": {}
      },
      "source": [
        "pip list"
      ],
      "execution_count": null,
      "outputs": []
    },
    {
      "cell_type": "code",
      "metadata": {
        "id": "0eZinov3JHm3",
        "colab_type": "code",
        "colab": {}
      },
      "source": [
        ""
      ],
      "execution_count": null,
      "outputs": []
    }
  ]
}